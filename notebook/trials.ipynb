{
 "cells": [
  {
   "cell_type": "code",
   "execution_count": 82,
   "metadata": {},
   "outputs": [
    {
     "data": {
      "text/plain": [
       "True"
      ]
     },
     "execution_count": 82,
     "metadata": {},
     "output_type": "execute_result"
    }
   ],
   "source": [
    "from langchain_core.messages import HumanMessage\n",
    "from langchain_google_genai import ChatGoogleGenerativeAI\n",
    "from dotenv import load_dotenv\n",
    "load_dotenv()"
   ]
  },
  {
   "cell_type": "code",
   "execution_count": 83,
   "metadata": {},
   "outputs": [],
   "source": [
    "import os\n",
    "os.environ[\"GOOGLE_API_KEY\"] = os.getenv(\"GOOGLE_API_KEY\")"
   ]
  },
  {
   "cell_type": "code",
   "execution_count": 84,
   "metadata": {},
   "outputs": [],
   "source": [
    "from pdf2image import convert_from_path\n",
    "import os\n",
    "\n",
    "# Function to convert PDF to images and save them\n",
    "def pdf_to_images(pdf_path):\n",
    "    # Convert PDF to images\n",
    "    images = convert_from_path(pdf_path)\n",
    "    output_folder = 'artifacts/'\n",
    "    os.makedirs(output_folder, exist_ok= True)\n",
    "    # Ensure the output folder exists\n",
    "    if not os.path.exists(output_folder):\n",
    "        os.makedirs(output_folder)\n",
    "\n",
    "    # Save each image\n",
    "    for i, image in enumerate(images):\n",
    "        image_path = os.path.join(output_folder, f\"page_{i + 1}.png\")  # Save as PNG\n",
    "        image.save(image_path, \"PNG\")  # You can change \"PNG\" to \"JPEG\" if needed\n",
    "        # print(f\"Saved: {image_path}\")\n",
    "        return image_path"
   ]
  },
  {
   "cell_type": "code",
   "execution_count": 85,
   "metadata": {},
   "outputs": [],
   "source": [
    "import base64\n",
    "import mimetypes\n",
    "import shutil\n",
    "\n",
    "# Function to convert image to base64\n",
    "def image_to_base64(path):\n",
    "    os.makedirs(\"artifacts/\", exist_ok= True)\n",
    "    _, extension = os.path.splitext(path)\n",
    "    if extension == \".pdf\":\n",
    "        image_path = pdf_to_images(path)\n",
    "    else: \n",
    "        image_path = path\n",
    "        shutil.copy(image_path, \"artifacts/\")\n",
    "    mime_type, _ = mimetypes.guess_type(image_path)\n",
    "    with open(image_path, \"rb\") as image_file:\n",
    "        base64_string = base64.b64encode(image_file.read()).decode(\"utf-8\")\n",
    "    base64_image = f\"data:{mime_type};base64,{base64_string}\"\n",
    "    return base64_image"
   ]
  },
  {
   "cell_type": "code",
   "execution_count": 86,
   "metadata": {},
   "outputs": [],
   "source": [
    "def generate_response(base64_path, input_prompt):\n",
    "    llm = ChatGoogleGenerativeAI(model= \"gemini-1.5-flash\", temperature= 0.8)\n",
    "    extracted_inforamtion = HumanMessage(\n",
    "    content=[\n",
    "        {\n",
    "            \"type\": \"text\", \"text\": input_prompt,},  \n",
    "        {\"type\": \"image_url\", \"image_url\": image_to_base64(base64_path)},\n",
    "    ]\n",
    ")\n",
    "    response = llm.invoke([extracted_inforamtion])\n",
    "    # print(type(response))\n",
    "    return response.content"
   ]
  },
  {
   "cell_type": "code",
   "execution_count": 87,
   "metadata": {},
   "outputs": [],
   "source": [
    "llm = ChatGoogleGenerativeAI(model=\"gemini-1.5-flash\", temperature=0.8)"
   ]
  },
  {
   "cell_type": "code",
   "execution_count": 88,
   "metadata": {},
   "outputs": [],
   "source": [
    "INPUT = \"\"\"\n",
    "You are an expert in understanding invoices.\n",
    "You will receive input images as invoices &\n",
    "You will have to extract the following information\n",
    "Please extract important information from invoice, such as:\n",
    "Name, Date, Description, Total Amount,etc\n",
    "    \"\"\"\n"
   ]
  },
  {
   "cell_type": "code",
   "execution_count": 89,
   "metadata": {},
   "outputs": [],
   "source": [
    "path = \"../Asus_bill.jpeg\""
   ]
  },
  {
   "cell_type": "code",
   "execution_count": 90,
   "metadata": {},
   "outputs": [],
   "source": [
    "import json"
   ]
  },
  {
   "cell_type": "code",
   "execution_count": 97,
   "metadata": {},
   "outputs": [],
   "source": [
    "response = generate_response(path, INPUT)"
   ]
  },
  {
   "cell_type": "code",
   "execution_count": 102,
   "metadata": {},
   "outputs": [],
   "source": [
    "result= response.strip().replace('```json', '').replace('```', '').strip()"
   ]
  },
  {
   "cell_type": "code",
   "execution_count": 108,
   "metadata": {},
   "outputs": [
    {
     "data": {
      "text/plain": [
       "'Dreamscape Technologies'"
      ]
     },
     "execution_count": 108,
     "metadata": {},
     "output_type": "execute_result"
    }
   ],
   "source": [
    "rrr= json.loads(result)\n"
   ]
  },
  {
   "cell_type": "code",
   "execution_count": null,
   "metadata": {},
   "outputs": [],
   "source": []
  }
 ],
 "metadata": {
  "kernelspec": {
   "display_name": "Python 3",
   "language": "python",
   "name": "python3"
  },
  "language_info": {
   "codemirror_mode": {
    "name": "ipython",
    "version": 3
   },
   "file_extension": ".py",
   "mimetype": "text/x-python",
   "name": "python",
   "nbconvert_exporter": "python",
   "pygments_lexer": "ipython3",
   "version": "3.10.0"
  }
 },
 "nbformat": 4,
 "nbformat_minor": 2
}
